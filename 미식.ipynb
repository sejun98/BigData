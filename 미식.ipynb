{
 "cells": [
  {
   "cell_type": "code",
   "execution_count": 1,
   "id": "46e9c3ed-ea74-4bbc-b667-198fe6f08fb8",
   "metadata": {},
   "outputs": [],
   "source": [
    "import pandas as pd\n",
    "import seaborn as sns\n",
    "import numpy as np\n",
    "import matplotlib.pyplot as plt\n",
    "plt.rcParams.update({'font.family' : 'Malgun Gothic'})"
   ]
  },
  {
   "cell_type": "code",
   "execution_count": 2,
   "id": "26a7b339-b972-4514-94e1-2bfa36c5925a",
   "metadata": {
    "collapsed": true,
    "jupyter": {
     "outputs_hidden": true,
     "source_hidden": true
    },
    "tags": []
   },
   "outputs": [
    {
     "data": {
      "text/html": [
       "<div>\n",
       "<style scoped>\n",
       "    .dataframe tbody tr th:only-of-type {\n",
       "        vertical-align: middle;\n",
       "    }\n",
       "\n",
       "    .dataframe tbody tr th {\n",
       "        vertical-align: top;\n",
       "    }\n",
       "\n",
       "    .dataframe thead th {\n",
       "        text-align: right;\n",
       "    }\n",
       "</style>\n",
       "<table border=\"1\" class=\"dataframe\">\n",
       "  <thead>\n",
       "    <tr style=\"text-align: right;\">\n",
       "      <th></th>\n",
       "      <th>DOC_DATE(DATE)</th>\n",
       "      <th>수집소스(SOURCE)</th>\n",
       "      <th>행정동(DONG_NM)</th>\n",
       "      <th>행정구(GU_NM)</th>\n",
       "      <th>세부견인요소(KEYWORD_DETAIL)</th>\n",
       "      <th>견인요소(KEYWORD)</th>\n",
       "      <th>FREQ(FREQ)</th>\n",
       "    </tr>\n",
       "  </thead>\n",
       "  <tbody>\n",
       "    <tr>\n",
       "      <th>0</th>\n",
       "      <td>20190403</td>\n",
       "      <td>블로그</td>\n",
       "      <td>성수동</td>\n",
       "      <td>종로구</td>\n",
       "      <td>비쥬얼</td>\n",
       "      <td>포토제닉</td>\n",
       "      <td>2</td>\n",
       "    </tr>\n",
       "    <tr>\n",
       "      <th>1</th>\n",
       "      <td>20190828</td>\n",
       "      <td>블로그</td>\n",
       "      <td>공릉동</td>\n",
       "      <td>성동구</td>\n",
       "      <td>인스타그램</td>\n",
       "      <td>입소문</td>\n",
       "      <td>1</td>\n",
       "    </tr>\n",
       "    <tr>\n",
       "      <th>2</th>\n",
       "      <td>20170329</td>\n",
       "      <td>블로그</td>\n",
       "      <td>석촌호수</td>\n",
       "      <td>서초구</td>\n",
       "      <td>식감</td>\n",
       "      <td>입소문</td>\n",
       "      <td>1</td>\n",
       "    </tr>\n",
       "    <tr>\n",
       "      <th>3</th>\n",
       "      <td>20191117</td>\n",
       "      <td>블로그</td>\n",
       "      <td>성수동</td>\n",
       "      <td>종로구</td>\n",
       "      <td>비쥬얼</td>\n",
       "      <td>포토제닉</td>\n",
       "      <td>1</td>\n",
       "    </tr>\n",
       "    <tr>\n",
       "      <th>4</th>\n",
       "      <td>20191023</td>\n",
       "      <td>블로그</td>\n",
       "      <td>정릉동</td>\n",
       "      <td>동대문구</td>\n",
       "      <td>인스타그램</td>\n",
       "      <td>포토제닉</td>\n",
       "      <td>1</td>\n",
       "    </tr>\n",
       "    <tr>\n",
       "      <th>...</th>\n",
       "      <td>...</td>\n",
       "      <td>...</td>\n",
       "      <td>...</td>\n",
       "      <td>...</td>\n",
       "      <td>...</td>\n",
       "      <td>...</td>\n",
       "      <td>...</td>\n",
       "    </tr>\n",
       "    <tr>\n",
       "      <th>495</th>\n",
       "      <td>20181013</td>\n",
       "      <td>블로그</td>\n",
       "      <td>영등포구청역</td>\n",
       "      <td>강남구</td>\n",
       "      <td>시그니처</td>\n",
       "      <td>맛</td>\n",
       "      <td>1</td>\n",
       "    </tr>\n",
       "    <tr>\n",
       "      <th>496</th>\n",
       "      <td>20180719</td>\n",
       "      <td>블로그</td>\n",
       "      <td>녹사평</td>\n",
       "      <td>종로구</td>\n",
       "      <td>셀카</td>\n",
       "      <td>포토제닉</td>\n",
       "      <td>1</td>\n",
       "    </tr>\n",
       "    <tr>\n",
       "      <th>497</th>\n",
       "      <td>20170819</td>\n",
       "      <td>블로그</td>\n",
       "      <td>홍대입구</td>\n",
       "      <td>영등포구</td>\n",
       "      <td>인스타그램</td>\n",
       "      <td>포토제닉</td>\n",
       "      <td>1</td>\n",
       "    </tr>\n",
       "    <tr>\n",
       "      <th>498</th>\n",
       "      <td>20180806</td>\n",
       "      <td>블로그</td>\n",
       "      <td>광화문</td>\n",
       "      <td>중구</td>\n",
       "      <td>식감</td>\n",
       "      <td>포토제닉</td>\n",
       "      <td>1</td>\n",
       "    </tr>\n",
       "    <tr>\n",
       "      <th>499</th>\n",
       "      <td>20190623</td>\n",
       "      <td>블로그</td>\n",
       "      <td>광진구</td>\n",
       "      <td>용산구</td>\n",
       "      <td>인스타감성</td>\n",
       "      <td>맛</td>\n",
       "      <td>1</td>\n",
       "    </tr>\n",
       "  </tbody>\n",
       "</table>\n",
       "<p>500 rows × 7 columns</p>\n",
       "</div>"
      ],
      "text/plain": [
       "     DOC_DATE(DATE) 수집소스(SOURCE) 행정동(DONG_NM) 행정구(GU_NM)  \\\n",
       "0          20190403          블로그          성수동        종로구   \n",
       "1          20190828          블로그          공릉동        성동구   \n",
       "2          20170329          블로그         석촌호수        서초구   \n",
       "3          20191117          블로그          성수동        종로구   \n",
       "4          20191023          블로그          정릉동       동대문구   \n",
       "..              ...          ...          ...        ...   \n",
       "495        20181013          블로그       영등포구청역        강남구   \n",
       "496        20180719          블로그          녹사평        종로구   \n",
       "497        20170819          블로그         홍대입구       영등포구   \n",
       "498        20180806          블로그          광화문         중구   \n",
       "499        20190623          블로그          광진구        용산구   \n",
       "\n",
       "    세부견인요소(KEYWORD_DETAIL) 견인요소(KEYWORD)  FREQ(FREQ)  \n",
       "0                      비쥬얼          포토제닉           2  \n",
       "1                    인스타그램           입소문           1  \n",
       "2                       식감           입소문           1  \n",
       "3                      비쥬얼          포토제닉           1  \n",
       "4                    인스타그램          포토제닉           1  \n",
       "..                     ...           ...         ...  \n",
       "495                   시그니처             맛           1  \n",
       "496                     셀카          포토제닉           1  \n",
       "497                  인스타그램          포토제닉           1  \n",
       "498                     식감          포토제닉           1  \n",
       "499                  인스타감성             맛           1  \n",
       "\n",
       "[500 rows x 7 columns]"
      ]
     },
     "execution_count": 2,
     "metadata": {},
     "output_type": "execute_result"
    }
   ],
   "source": [
    "food = pd.read_csv('project_data/미식 탐방 매력도.csv', encoding='cp949')\n",
    "food"
   ]
  },
  {
   "cell_type": "code",
   "execution_count": 3,
   "id": "b480950b-683f-401d-8018-4fd5c17e5474",
   "metadata": {
    "tags": []
   },
   "outputs": [],
   "source": [
    "\n",
    "\n",
    "food.rename(columns = {'세부견인요소(KEYWORD_DETAIL)' : '세부키워드(KEYWORD_DETAIL)'}, inplace = True)\n",
    "\n",
    "food_KN = food.groupby(food['세부키워드(KEYWORD_DETAIL)'], as_index=False)\\\n",
    "                .agg(keyword_n = ('세부키워드(KEYWORD_DETAIL)','count'))\\\n",
    "                .sort_values('keyword_n', ascending=False)\\\n",
    "                .head(30)\n",
    "                \n",
    "\n",
    "food_KN['키워드언급량'] = food_KN['keyword_n']\n",
    "del food_KN['keyword_n']\n",
    "\n",
    "food1 = pd.merge(left = food_KN, right = food, how = 'left', on = '세부키워드(KEYWORD_DETAIL)')\n",
    "\n",
    "food1 = food1[['DOC_DATE(DATE)','수집소스(SOURCE)','행정구(GU_NM)','세부키워드(KEYWORD_DETAIL)','키워드언급량']]"
   ]
  },
  {
   "cell_type": "code",
   "execution_count": 4,
   "id": "d47bcacd-70d9-41c7-baef-4d9e53b760e9",
   "metadata": {
    "collapsed": true,
    "jupyter": {
     "outputs_hidden": true
    },
    "tags": []
   },
   "outputs": [
    {
     "data": {
      "text/plain": [
       "<AxesSubplot:xlabel='키워드언급량', ylabel='세부키워드(KEYWORD_DETAIL)'>"
      ]
     },
     "execution_count": 4,
     "metadata": {},
     "output_type": "execute_result"
    },
    {
     "data": {
      "image/png": "[encoded data removed]",
      "text/plain": [
       "<Figure size 864x432 with 1 Axes>"
      ]
     },
     "metadata": {
      "needs_background": "light"
     },
     "output_type": "display_data"
    }
   ],
   "source": [
    "plt.figure(figsize = (12, 6))\n",
    "sns.barplot(data = food_KN, y = '세부키워드(KEYWORD_DETAIL)', x = '키워드언급량')"
   ]
  },
  {
   "cell_type": "code",
   "execution_count": 5,
   "id": "4f07e63d-3345-4312-9b94-40905118f130",
   "metadata": {
    "tags": []
   },
   "outputs": [],
   "source": [
    "food = pd.read_csv('project_data/미식 탐방 버즈량.csv', encoding='cp949')"
   ]
  },
  {
   "cell_type": "code",
   "execution_count": 6,
   "id": "84b7ad0f-9034-4543-9eb9-60f89e3a817d",
   "metadata": {},
   "outputs": [],
   "source": [
    "\n",
    "\n",
    "food.rename(columns = {'세부견인요소(KEYWORD_DETAIL)' : '세부키워드(KEYWORD_DETAIL)'}, inplace = True)\n",
    "\n",
    "food_KN = food.groupby(food['세부키워드(KEYWORD_DETAIL)'], as_index=False)\\\n",
    "                .agg(keyword_n = ('세부키워드(KEYWORD_DETAIL)','count'))\\\n",
    "                .sort_values('keyword_n', ascending=False)\\\n",
    "                .head(30)\n",
    "\n",
    "food_KN['키워드언급량'] = food_KN['keyword_n']\n",
    "del food_KN['keyword_n']\n",
    "\n",
    "food1 = pd.merge(left = food_KN, right = food, how = 'left', on = '세부키워드(KEYWORD_DETAIL)')\n",
    "\n",
    "food1 = food1[['DOC_DATE(DATE)','수집소스(SOURCE)','행정구(GU_NM)','세부키워드(KEYWORD_DETAIL)','키워드언급량']]"
   ]
  },
  {
   "cell_type": "code",
   "execution_count": 8,
   "id": "9f0416df-8d49-49fd-8a4f-cf16aca73552",
   "metadata": {
    "tags": []
   },
   "outputs": [
    {
     "data": {
      "text/plain": [
       "<AxesSubplot:xlabel='키워드언급량', ylabel='세부키워드(KEYWORD_DETAIL)'>"
      ]
     },
     "execution_count": 8,
     "metadata": {},
     "output_type": "execute_result"
    },
    {
     "data": {
      "image/png": "[encoded data removed]",
      "text/plain": [
       "<Figure size 864x432 with 1 Axes>"
      ]
     },
     "metadata": {
      "needs_background": "light"
     },
     "output_type": "display_data"
    }
   ],
   "source": [
    "plt.figure(figsize = (12, 6))\n",
    "sns.barplot(data = food_KN, y = '세부키워드(KEYWORD_DETAIL)', x = '키워드언급량')"
   ]
  },
  {
   "cell_type": "code",
   "execution_count": null,
   "id": "fc77aed4-5ebb-4c5b-a9e1-8f0351a336bd",
   "metadata": {},
   "outputs": [],
   "source": []
  },
  {
   "cell_type": "code",
   "execution_count": null,
   "id": "ac4f10f9-6d55-456b-8f83-1af4858581ac",
   "metadata": {},
   "outputs": [],
   "source": []
  }
 ],
 "metadata": {
  "kernelspec": {
   "display_name": "Python 3 (ipykernel)",
   "language": "python",
   "name": "python3"
  },
  "language_info": {
   "codemirror_mode": {
    "name": "ipython",
    "version": 3
   },
   "file_extension": ".py",
   "mimetype": "text/x-python",
   "name": "python",
   "nbconvert_exporter": "python",
   "pygments_lexer": "ipython3",
   "version": "3.9.12"
  }
 },
 "nbformat": 4,
 "nbformat_minor": 5
}
